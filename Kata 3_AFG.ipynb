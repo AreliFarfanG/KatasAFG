{
 "cells": [
  {
   "cell_type": "markdown",
   "metadata": {},
   "source": [
    "# Tamaño asteroide"
   ]
  },
  {
   "cell_type": "code",
   "execution_count": 32,
   "metadata": {},
   "outputs": [
    {
     "name": "stdout",
     "output_type": "stream",
     "text": [
      "Bienvenido.\n",
      "No hay de que preocuparse, sigue tu camino pokémon\n"
     ]
    }
   ],
   "source": [
    "print(\"Bienvenido.\")\n",
    "asteroide=float(input(\"Digite el tamaño del asteroide en metros.\"))\n",
    "if asteroide>25 and asteroide<1000:\n",
    "    print(\"ALERTA; CAUSARA DAÑO IMPRESIONANTE A LA TIERRA\")\n",
    "else:\n",
    "    print(\"No hay de que preocuparse, sigue tu camino entrenador pokémon\")"
   ]
  },
  {
   "cell_type": "markdown",
   "metadata": {},
   "source": [
    "# Velocidad asteroide"
   ]
  },
  {
   "cell_type": "code",
   "execution_count": 38,
   "metadata": {},
   "outputs": [
    {
     "name": "stdout",
     "output_type": "stream",
     "text": [
      "Bienvenido.\n",
      "La velocidad de 27.8km/s es peligrosa, requiere atención.\n"
     ]
    }
   ],
   "source": [
    "print(\"Bienvenido.\")\n",
    "vel_asteroide=float(input(\"Digite la velocidad del asteroide en km/s.\"))\n",
    "if vel_asteroide>25:\n",
    "    print(\"La velocidad de \"+ str(vel_asteroide) +\" km/s es peligrosa, requiere atención.\")\n",
    "else:\n",
    "    print(\"Velocidad en rangos no preocupantes\")"
   ]
  },
  {
   "cell_type": "markdown",
   "metadata": {},
   "source": [
    "# Rayo de luz "
   ]
  },
  {
   "cell_type": "code",
   "execution_count": 49,
   "metadata": {},
   "outputs": [
    {
     "name": "stdout",
     "output_type": "stream",
     "text": [
      "Bienvenido.\n",
      "La velocidad de 19.9 km/s, casi produce algo pero no\n"
     ]
    }
   ],
   "source": [
    "print(\"Bienvenido.\")\n",
    "vel_asteroide2=float(input(\"Digite la velocidad del asteroide dentro de la atm en km/s. Solo 1 decimal\"))\n",
    "if vel_asteroide2>=20:\n",
    "    print(\"La velocidad \"+ str(vel_asteroide2)+ \" km/s, mira arriba hay una hermosa luz.\")\n",
    "elif vel_asteroide2==19.9 :\n",
    "    print(\"La velocidad de \"+str(vel_asteroide2)+ \" km/s, casi produce algo pero no\")\n",
    "else:\n",
    "    print(\"La velocidad \"+str(vel_asteroide2)+ \" km/s, no produce nada, espectacular.\")"
   ]
  }
 ],
 "metadata": {
  "interpreter": {
   "hash": "df59b04e9978eb50557051abc32c5ae29d7f79906771ab2cd828a013e4cdf466"
  },
  "kernelspec": {
   "display_name": "Python 3.10.2 64-bit",
   "language": "python",
   "name": "python3"
  },
  "language_info": {
   "codemirror_mode": {
    "name": "ipython",
    "version": 3
   },
   "file_extension": ".py",
   "mimetype": "text/x-python",
   "name": "python",
   "nbconvert_exporter": "python",
   "pygments_lexer": "ipython3",
   "version": "3.10.2"
  },
  "orig_nbformat": 4
 },
 "nbformat": 4,
 "nbformat_minor": 2
}
