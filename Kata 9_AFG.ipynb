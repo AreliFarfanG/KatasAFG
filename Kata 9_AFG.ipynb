{
 "cells": [
  {
   "cell_type": "markdown",
   "metadata": {},
   "source": [
    "# Ejercicio 1"
   ]
  },
  {
   "cell_type": "code",
   "execution_count": 29,
   "metadata": {},
   "outputs": [
    {
     "name": "stdout",
     "output_type": "stream",
     "text": [
      "\u001b[4;30;47mReporte de combustible:\n",
      "    \u001b[4;35;47m-Tanque A: 10%\n",
      "    \u001b[4;35;47m-Tanque B: 20.3% \n",
      "    \u001b[4;35;47m -Tanque C: 10%\n",
      "    \u001b[4;35;47m -Total: 13.433333333333332%\n",
      "\u001b[4;32;47m////////////////////////////////////////////////////////////////\n",
      "\u001b[4;30;47mReporte de combustible:\n",
      "    \u001b[4;35;47m-Tanque A: 13.34%\n",
      "    \u001b[4;35;47m-Tanque B: 23.27% \n",
      "    \u001b[4;35;47m-Tanque C: 85.9%\n",
      "    \u001b[4;35;47m -Total: 40.836666666666666%\n"
     ]
    }
   ],
   "source": [
    "def informe(tanque_a,tanque_b,tanque_c):\n",
    "    promedio=(tanque_a+tanque_b+tanque_c)/3\n",
    "    return f\"\"\"\\033[4;30;47mReporte de combustible:\n",
    "    \\033[4;35;47m-Tanque A: {tanque_a}%\n",
    "    \\033[4;35;47m-Tanque B: {tanque_b}% \n",
    "    \\033[4;35;47m -Tanque C: {tanque_c}%\n",
    "    \\033[4;35;47m -Total: {promedio}%\"\"\"\n",
    "print(informe(10,20.30,10))\n",
    "print(\"\\033[4;32;47m////////////////////////////////////////////////////////////////\")\n",
    "def prom(porcentajes):\n",
    "    final=sum(porcentajes)\n",
    "    valores=len(porcentajes)\n",
    "    return final/valores\n",
    "def informe2(tanque_1,tanque_2,tanque_3):\n",
    "    return f\"\"\"\\033[4;30;47mReporte de combustible:\n",
    "    \\033[4;35;47m-Tanque A: {tanque_1}%\n",
    "    \\033[4;35;47m-Tanque B: {tanque_2}% \n",
    "    \\033[4;35;47m-Tanque C: {tanque_3}%\n",
    "    \\033[4;35;47m -Total: {prom([tanque_1,tanque_2,tanque_3])}%\"\"\"\n",
    "print(informe2(13.34,23.27,85.9))  "
   ]
  },
  {
   "cell_type": "markdown",
   "metadata": {},
   "source": [
    "# Ejercicio 2"
   ]
  },
  {
   "cell_type": "code",
   "execution_count": 8,
   "metadata": {},
   "outputs": [
    {
     "name": "stdout",
     "output_type": "stream",
     "text": [
      "\u001b[4;31;47mHola usuario.\n",
      "Misión a: venus\n",
      "Tiempo de viaje: 140 minutos\n",
      "Total de combustible: 156.2 litros\n",
      "\u001b[4;32;47m\n",
      "/////////////////////////////////////////////////////////////////////////////////////////\n",
      "\n",
      "\u001b[4;30;47mHola usuario.\n",
      "Misión a: Júpiter\n",
      "Tiempo de viaje: 164 minutos\n",
      "Total de combustible: 572000\n",
      "    \n",
      "interno tanque: 23000 litros\n",
      "externo tanque: 549000 litros\n"
     ]
    }
   ],
   "source": [
    "def mision(prelanzamiento,vuelo,destino,tanqueex,tanqueinte):\n",
    "    return f\"\"\"\\033[4;31;47mHola usuario.\n",
    "Misión a: {destino}\n",
    "Tiempo de viaje: {prelanzamiento+vuelo} minutos\n",
    "Total de combustible: {tanqueex+tanqueinte} litros\"\"\"\n",
    "print(mision(45,95,'venus',122,34.2))\n",
    "print(\"\\033[4;32;47m\\n/////////////////////////////////////////////////////////////////////////////////////////\\n\")\n",
    "def misionb(destino_final, *minutes, **fuel_reservoirs):\n",
    "    reporte = f\"\"\"\\033[4;30;47mHola usuario.\n",
    "Misión a: {destino_final}\n",
    "Tiempo de viaje: {sum(minutes)} minutos\n",
    "Total de combustible: {sum(fuel_reservoirs.values())}\n",
    "    \"\"\"\n",
    "    for nombre, litros in fuel_reservoirs.items():\n",
    "     reporte += f\"\\n{nombre} tanque: {litros} litros\"\n",
    "    return reporte\n",
    "print(misionb(\"Júpiter\",35,129,interno=23000,externo=549000))"
   ]
  }
 ],
 "metadata": {
  "interpreter": {
   "hash": "df59b04e9978eb50557051abc32c5ae29d7f79906771ab2cd828a013e4cdf466"
  },
  "kernelspec": {
   "display_name": "Python 3.10.2 64-bit",
   "language": "python",
   "name": "python3"
  },
  "language_info": {
   "codemirror_mode": {
    "name": "ipython",
    "version": 3
   },
   "file_extension": ".py",
   "mimetype": "text/x-python",
   "name": "python",
   "nbconvert_exporter": "python",
   "pygments_lexer": "ipython3",
   "version": "3.10.2"
  },
  "orig_nbformat": 4
 },
 "nbformat": 4,
 "nbformat_minor": 2
}
