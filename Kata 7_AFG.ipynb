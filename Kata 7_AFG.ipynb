{
 "cells": [
  {
   "cell_type": "markdown",
   "metadata": {},
   "source": [
    "# Planetas While & For"
   ]
  },
  {
   "cell_type": "code",
   "execution_count": 1,
   "metadata": {},
   "outputs": [
    {
     "name": "stdout",
     "output_type": "stream",
     "text": [
      "\u001b[4;35;47mBienvenido, en esta ocasión le pediremos los nombres de los planetas.\n",
      "Diviertete.\n",
      "\u001b[4;30;47mtierra\n"
     ]
    }
   ],
   "source": [
    "print(\"\\033[4;35;47mBienvenido, en esta ocasión le pediremos los nombres de los planetas.\\nDiviertete.\")\n",
    "planetas_in=''\n",
    "planetas_out = []\n",
    "while planetas_in.lower() !='salir':\n",
    "    if planetas_in:\n",
    "        planetas_out.append(planetas_in)\n",
    "    planetas_in=input(\"Escriba el nombre del planeta o salir para terminar\")\n",
    "for planetas_out in planetas_out:\n",
    "    print (\"\\033[4;30;47m\"+planetas_out)"
   ]
  }
 ],
 "metadata": {
  "interpreter": {
   "hash": "df59b04e9978eb50557051abc32c5ae29d7f79906771ab2cd828a013e4cdf466"
  },
  "kernelspec": {
   "display_name": "Python 3.10.2 64-bit",
   "language": "python",
   "name": "python3"
  },
  "language_info": {
   "codemirror_mode": {
    "name": "ipython",
    "version": 3
   },
   "file_extension": ".py",
   "mimetype": "text/x-python",
   "name": "python",
   "nbconvert_exporter": "python",
   "pygments_lexer": "ipython3",
   "version": "3.10.2"
  },
  "orig_nbformat": 4
 },
 "nbformat": 4,
 "nbformat_minor": 2
}
