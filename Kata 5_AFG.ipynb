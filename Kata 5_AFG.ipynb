{
 "cells": [
  {
   "cell_type": "markdown",
   "metadata": {},
   "source": [
    "# Operadores aritmeticos "
   ]
  },
  {
   "cell_type": "code",
   "execution_count": 18,
   "metadata": {},
   "outputs": [
    {
     "name": "stdout",
     "output_type": "stream",
     "text": [
      "Bienvenido, aquí calcularemos la distancia entre la tierra y júpiter.\n",
      "\n",
      "EL resultado en km:\n",
      "628949330\n",
      "El resultado en millas es:\n",
      "390577533.93\n"
     ]
    }
   ],
   "source": [
    "print(\"Bienvenido, aquí calcularemos la distancia entre la tierra y júpiter.\\n\")\n",
    "tierra = int('149597870')\n",
    "jupiter=int('778547200')\n",
    "dis_km=tierra-jupiter\n",
    "print(\"EL resultado en km:\" )\n",
    "print (abs(dis_km))\n",
    "dis_millas=dis_km*0.621\n",
    "print(\"El resultado en millas es:\")\n",
    "print(abs(dis_millas))"
   ]
  },
  {
   "cell_type": "markdown",
   "metadata": {},
   "source": [
    "# Ejercicio 2"
   ]
  },
  {
   "cell_type": "code",
   "execution_count": 24,
   "metadata": {},
   "outputs": [
    {
     "name": "stdout",
     "output_type": "stream",
     "text": [
      "Bienvenido al calculo de distancia de planetas.\n",
      "\n",
      "La distancia de los planetas en km es: 345572444\n",
      "El resultado en millas es:214600487.724\n"
     ]
    }
   ],
   "source": [
    "print(\"Bienvenido al calculo de distancia de planetas.\\n\")\n",
    "planeta1=int(input(\"Digite el valor del primer planeta en km: \"))\n",
    "planeta2=int(input(\"Digite el valor del segundo planeta en km: \"))\n",
    "distancia_km=planeta1-planeta2\n",
    "distancia_milla=distancia_km*0.621\n",
    "print(\"La distancia de los planetas en km es: \",end=\"\")\n",
    "print(abs(distancia_km))\n",
    "print(\"El resultado en millas es: \",end=\"\")\n",
    "print(abs(distancia_milla))"
   ]
  }
 ],
 "metadata": {
  "interpreter": {
   "hash": "df59b04e9978eb50557051abc32c5ae29d7f79906771ab2cd828a013e4cdf466"
  },
  "kernelspec": {
   "display_name": "Python 3.10.2 64-bit",
   "language": "python",
   "name": "python3"
  },
  "language_info": {
   "codemirror_mode": {
    "name": "ipython",
    "version": 3
   },
   "file_extension": ".py",
   "mimetype": "text/x-python",
   "name": "python",
   "nbconvert_exporter": "python",
   "pygments_lexer": "ipython3",
   "version": "3.10.2"
  },
  "orig_nbformat": 4
 },
 "nbformat": 4,
 "nbformat_minor": 2
}
