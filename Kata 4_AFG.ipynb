{
 "cells": [
  {
   "cell_type": "markdown",
   "metadata": {},
   "source": [
    "# Ejercicio 1"
   ]
  },
  {
   "cell_type": "code",
   "execution_count": 58,
   "metadata": {},
   "outputs": [
    {
     "name": "stdout",
     "output_type": "stream",
     "text": [
      " The Moon is Earth's only satellite\n",
      " There are several interesting facts about the Moon and how it affects life here on Earth\n",
      " This yearly drift is not significant enough to cause immediate effects on Earth\n",
      " The highes\n"
     ]
    }
   ],
   "source": [
    "texto= \"\"\"Interesting facts about the Moon. The Moon is Earth's only satellite. There are several interesting facts about the Moon and how it affects life here on Earth. \n",
    "On average, the Moon moves 4cm away from the Earth every year. This yearly drift is not significant enough to cause immediate effects on Earth. The highes\"\"\"\n",
    "texto_sep=texto .split('.') #separa texto donde encuentra el signo de puntuación entre comillas\n",
    "texto_sep\n",
    "palabras=[\"average\", \"temperature\", \"distance\"] #palabras claves\n",
    "for resp1 in texto_sep:\n",
    "    for palabras in palabras:\n",
    "        if palabras in resp1:\n",
    "            print(resp1.replace('C','Celsius')) #remplazar un carácter por una cadena de texto\n",
    "            break"
   ]
  },
  {
   "cell_type": "markdown",
   "metadata": {},
   "source": [
    "# Ejercicio 2"
   ]
  },
  {
   "cell_type": "code",
   "execution_count": 56,
   "metadata": {},
   "outputs": [
    {
     "ename": "SyntaxError",
     "evalue": "invalid syntax (221608095.py, line 14)",
     "output_type": "error",
     "traceback": [
      "\u001b[1;36m  Input \u001b[1;32mIn [56]\u001b[1;36m\u001b[0m\n\u001b[1;33m    print(titulo,cuerpo) <<<platilla nueva>>>\u001b[0m\n\u001b[1;37m                           ^\u001b[0m\n\u001b[1;31mSyntaxError\u001b[0m\u001b[1;31m:\u001b[0m invalid syntax\n"
     ]
    }
   ],
   "source": [
    "nombre = 'Luna'\n",
    "gravedad = 0.00162 \n",
    "planeta = 'Tierra'\n",
    "titulo = f\"\"\"------------Datos de la gravedad de {nombre}------------\"\"\"\n",
    "cuerpo=f\"\"\"\n",
    "Nombre del planeta: {planeta}\n",
    "Gravadad en {nombre}: {gravedad*1000} m/s\"\"\"\n",
    "plantilla= f'{titulo.title()}{cuerpo}'\n",
    "print (titulo , cuerpo)\n",
    "planeta = 'Marte '\n",
    "gravedad = 0.00143\n",
    "nombre = 'Ganímedes'\n",
    "gravedadms=gravedad*1000 #conversion de km a m\n",
    "print(titulo,cuerpo) \n",
    "plantilla2 = \"\"\" \n",
    "Datos de Gravedad sobre: {nombre}\n",
    "-------------------------------------------------------------------------------\n",
    "Nombre del planeta: {planeta}\n",
    "Gravedad en {nombre}: {gravedadms} m/s2\n",
    "\"\"\" #se realiza platilla nueva\n",
    "print(plantilla2.format(nombre=nombre, planeta=planeta, gravedadms=gravedadms)) #impresión de plantilla nueva y se le da formato"
   ]
  }
 ],
 "metadata": {
  "interpreter": {
   "hash": "df59b04e9978eb50557051abc32c5ae29d7f79906771ab2cd828a013e4cdf466"
  },
  "kernelspec": {
   "display_name": "Python 3.10.2 64-bit",
   "language": "python",
   "name": "python3"
  },
  "language_info": {
   "codemirror_mode": {
    "name": "ipython",
    "version": 3
   },
   "file_extension": ".py",
   "mimetype": "text/x-python",
   "name": "python",
   "nbconvert_exporter": "python",
   "pygments_lexer": "ipython3",
   "version": "3.10.2"
  },
  "orig_nbformat": 4
 },
 "nbformat": 4,
 "nbformat_minor": 2
}
