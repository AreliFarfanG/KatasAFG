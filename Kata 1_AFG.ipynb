{
 "cells": [
  {
   "cell_type": "markdown",
   "metadata": {},
   "source": [
    "# FECHA"
   ]
  },
  {
   "cell_type": "code",
   "execution_count": 3,
   "metadata": {},
   "outputs": [
    {
     "name": "stdout",
     "output_type": "stream",
     "text": [
      "Hola, este programa sirve para dar la fecha. Bienvenido.\n",
      "El día de hoy es: 2022-02-14\n"
     ]
    }
   ],
   "source": [
    "from datetime import date\n",
    "print (\"Hola, este programa sirve para dar la fecha. Bienvenido.\")\n",
    "print (\"El día de hoy es: \"+str(date.today()))"
   ]
  },
  {
   "cell_type": "markdown",
   "metadata": {},
   "source": [
    "# CONVERTIDOR DE PERSECS A AÑOS LUZ"
   ]
  },
  {
   "cell_type": "code",
   "execution_count": 6,
   "metadata": {},
   "outputs": [
    {
     "name": "stdout",
     "output_type": "stream",
     "text": [
      "Bienvenido al convertidor de unidades \n",
      "En este se convertiran de persec a años luz.\n",
      "11 persec son 35.877159999999996años luz\n"
     ]
    }
   ],
   "source": [
    "print (\"Bienvenido al convertidor de unidades \\nEn este se convertiran de persec a años luz.\")\n",
    "persec=int(11)\n",
    "añosluz=persec*3.26156\n",
    "print(str(persec)+\" persec son \"+ str(añosluz)+ \"años luz\")\n"
   ]
  }
 ],
 "metadata": {
  "interpreter": {
   "hash": "df59b04e9978eb50557051abc32c5ae29d7f79906771ab2cd828a013e4cdf466"
  },
  "kernelspec": {
   "display_name": "Python 3.10.2 64-bit",
   "language": "python",
   "name": "python3"
  },
  "language_info": {
   "codemirror_mode": {
    "name": "ipython",
    "version": 3
   },
   "file_extension": ".py",
   "mimetype": "text/x-python",
   "name": "python",
   "nbconvert_exporter": "python",
   "pygments_lexer": "ipython3",
   "version": "3.10.2"
  },
  "orig_nbformat": 4
 },
 "nbformat": 4,
 "nbformat_minor": 2
}
