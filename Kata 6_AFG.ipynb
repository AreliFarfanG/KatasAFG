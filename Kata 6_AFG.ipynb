{
 "cells": [
  {
   "cell_type": "markdown",
   "metadata": {},
   "source": [
    "# Ejercicio 1"
   ]
  },
  {
   "cell_type": "code",
   "execution_count": 21,
   "metadata": {},
   "outputs": [
    {
     "name": "stdout",
     "output_type": "stream",
     "text": [
      "El número de planetas en el sistema solar son:8\n",
      "Ahora el número de planetas en el sistema solar son: 9\n",
      "Último planeta: Plutón\n"
     ]
    }
   ],
   "source": [
    "planetas= ['Mercurio', 'Venus', 'Tierra', 'Marte', 'Júpiter', 'Saturno', 'Urano', 'Neptuno']\n",
    "numero_planetas=len(planetas)\n",
    "print(\"El número de planetas en el sistema solar son:\"+ str(numero_planetas))\n",
    "planetas.append('Plutón')\n",
    "numero_planetas=len(planetas)\n",
    "print(\"Ahora el número de planetas en el sistema solar son: \"+ str(numero_planetas) +\"\\nÚltimo planeta: \"+  planetas[-1])"
   ]
  },
  {
   "cell_type": "markdown",
   "metadata": {},
   "source": [
    "# Ejercicio 2"
   ]
  },
  {
   "cell_type": "code",
   "execution_count": 15,
   "metadata": {},
   "outputs": [
    {
     "name": "stdout",
     "output_type": "stream",
     "text": [
      "Los planetas más cercanos al sol son: ['Mercurio', 'Venus', 'Tierra', 'Marte', 'Júpiter']\n",
      "Los planetas más lejanos al sol son: ['Urano', 'Neptuno']\n"
     ]
    }
   ],
   "source": [
    "planetas= ['Mercurio', 'Venus', 'Tierra', 'Marte', 'Júpiter', 'Saturno', 'Urano', 'Neptuno']\n",
    "planetas_in=input(\"Escriba el nombre del planeta utilizando la primera letra mayúscula: \")\n",
    "buscar=planetas.index(planetas_in)\n",
    "cercanosol=planetas[0:buscar]\n",
    "print(\"Los planetas más cercanos al sol son:\",cercanosol)\n",
    "lejanos=planetas[buscar+1:]\n",
    "print(\"Los planetas más lejanos al sol son:\",lejanos)"
   ]
  }
 ],
 "metadata": {
  "interpreter": {
   "hash": "df59b04e9978eb50557051abc32c5ae29d7f79906771ab2cd828a013e4cdf466"
  },
  "kernelspec": {
   "display_name": "Python 3.10.2 64-bit",
   "language": "python",
   "name": "python3"
  },
  "language_info": {
   "codemirror_mode": {
    "name": "ipython",
    "version": 3
   },
   "file_extension": ".py",
   "mimetype": "text/x-python",
   "name": "python",
   "nbconvert_exporter": "python",
   "pygments_lexer": "ipython3",
   "version": "3.10.2"
  },
  "orig_nbformat": 4
 },
 "nbformat": 4,
 "nbformat_minor": 2
}
