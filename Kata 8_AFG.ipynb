{
 "cells": [
  {
   "cell_type": "markdown",
   "metadata": {},
   "source": [
    "# Ejercicio 1"
   ]
  },
  {
   "cell_type": "code",
   "execution_count": 6,
   "metadata": {},
   "outputs": [
    {
     "name": "stdout",
     "output_type": "stream",
     "text": [
      "Marte\n",
      "2\n",
      "Marte circunferencia polar:  6752\n"
     ]
    }
   ],
   "source": [
    "planeta={\n",
    "    'nombre':'Marte',\n",
    "    'lunas': 2\n",
    "}\n",
    "print(planeta['nombre'])\n",
    "print(planeta.get('lunas'))\n",
    "planeta['circunferencia_km']={\n",
    "    'polar':6752,\n",
    "    'equatoria':6792\n",
    "}\n",
    "print(planeta['nombre'], \"circunferencia polar: \", planeta['circunferencia_km']['polar'])"
   ]
  },
  {
   "cell_type": "markdown",
   "metadata": {},
   "source": [
    "# Ejercicio 2"
   ]
  },
  {
   "cell_type": "code",
   "execution_count": 9,
   "metadata": {},
   "outputs": [
    {
     "name": "stdout",
     "output_type": "stream",
     "text": [
      "El total de lunas es:  209\n",
      "EL promedio de las lunas es:  19.0\n"
     ]
    }
   ],
   "source": [
    "lunas={ \n",
    "       'mercurio':0,\n",
    "       'venus':0,\n",
    "       'tierra':1,\n",
    "       'marte':2,\n",
    "       'júpiter':79,\n",
    "       'saturno':82,\n",
    "       'urano':27,\n",
    "       'neptuno':14,\n",
    "       'haumea':2,\n",
    "       'makemake':1,\n",
    "       'eris':1}\n",
    "moons=lunas.values()\n",
    "planetas=len(lunas)\n",
    "total=0 \n",
    "promedio=0\n",
    "for moons in moons:\n",
    "    total=total+moons\n",
    "promedio=total/planetas\n",
    "print(\"El total de lunas es: \",total)\n",
    "print(\"EL promedio de las lunas es: \",promedio)\n"
   ]
  }
 ],
 "metadata": {
  "interpreter": {
   "hash": "df59b04e9978eb50557051abc32c5ae29d7f79906771ab2cd828a013e4cdf466"
  },
  "kernelspec": {
   "display_name": "Python 3.10.2 64-bit",
   "language": "python",
   "name": "python3"
  },
  "language_info": {
   "codemirror_mode": {
    "name": "ipython",
    "version": 3
   },
   "file_extension": ".py",
   "mimetype": "text/x-python",
   "name": "python",
   "nbconvert_exporter": "python",
   "pygments_lexer": "ipython3",
   "version": "3.10.2"
  },
  "orig_nbformat": 4
 },
 "nbformat": 4,
 "nbformat_minor": 2
}
